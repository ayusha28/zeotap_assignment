{
 "cells": [
  {
   "cell_type": "code",
   "execution_count": 26,
   "id": "ff70331f-0cf5-46a3-b395-8a3a237a67de",
   "metadata": {},
   "outputs": [],
   "source": [
    "import pandas as pd\n",
    "import numpy as np\n",
    "import matplotlib. pyplot as plt \n",
    "import seaborn as sns"
   ]
  },
  {
   "cell_type": "code",
   "execution_count": 27,
   "id": "f5d1ede0-917b-4aa4-8362-284c86cfe727",
   "metadata": {},
   "outputs": [],
   "source": [
    "data = pd.read_csv(\"Customers.csv\")"
   ]
  },
  {
   "cell_type": "code",
   "execution_count": 28,
   "id": "c2f09d8f-d4ec-4eff-8362-ea310efe791f",
   "metadata": {},
   "outputs": [
    {
     "data": {
      "text/html": [
       "<div>\n",
       "<style scoped>\n",
       "    .dataframe tbody tr th:only-of-type {\n",
       "        vertical-align: middle;\n",
       "    }\n",
       "\n",
       "    .dataframe tbody tr th {\n",
       "        vertical-align: top;\n",
       "    }\n",
       "\n",
       "    .dataframe thead th {\n",
       "        text-align: right;\n",
       "    }\n",
       "</style>\n",
       "<table border=\"1\" class=\"dataframe\">\n",
       "  <thead>\n",
       "    <tr style=\"text-align: right;\">\n",
       "      <th></th>\n",
       "      <th>CustomerID</th>\n",
       "      <th>CustomerName</th>\n",
       "      <th>Region</th>\n",
       "      <th>SignupDate</th>\n",
       "    </tr>\n",
       "  </thead>\n",
       "  <tbody>\n",
       "    <tr>\n",
       "      <th>0</th>\n",
       "      <td>C0001</td>\n",
       "      <td>Lawrence Carroll</td>\n",
       "      <td>South America</td>\n",
       "      <td>2022-07-10</td>\n",
       "    </tr>\n",
       "    <tr>\n",
       "      <th>1</th>\n",
       "      <td>C0002</td>\n",
       "      <td>Elizabeth Lutz</td>\n",
       "      <td>Asia</td>\n",
       "      <td>2022-02-13</td>\n",
       "    </tr>\n",
       "    <tr>\n",
       "      <th>2</th>\n",
       "      <td>C0003</td>\n",
       "      <td>Michael Rivera</td>\n",
       "      <td>South America</td>\n",
       "      <td>2024-03-07</td>\n",
       "    </tr>\n",
       "    <tr>\n",
       "      <th>3</th>\n",
       "      <td>C0004</td>\n",
       "      <td>Kathleen Rodriguez</td>\n",
       "      <td>South America</td>\n",
       "      <td>2022-10-09</td>\n",
       "    </tr>\n",
       "    <tr>\n",
       "      <th>4</th>\n",
       "      <td>C0005</td>\n",
       "      <td>Laura Weber</td>\n",
       "      <td>Asia</td>\n",
       "      <td>2022-08-15</td>\n",
       "    </tr>\n",
       "  </tbody>\n",
       "</table>\n",
       "</div>"
      ],
      "text/plain": [
       "  CustomerID        CustomerName         Region  SignupDate\n",
       "0      C0001    Lawrence Carroll  South America  2022-07-10\n",
       "1      C0002      Elizabeth Lutz           Asia  2022-02-13\n",
       "2      C0003      Michael Rivera  South America  2024-03-07\n",
       "3      C0004  Kathleen Rodriguez  South America  2022-10-09\n",
       "4      C0005         Laura Weber           Asia  2022-08-15"
      ]
     },
     "execution_count": 28,
     "metadata": {},
     "output_type": "execute_result"
    }
   ],
   "source": [
    "data.head()"
   ]
  },
  {
   "cell_type": "code",
   "execution_count": 29,
   "id": "2c75a9d8-5a0f-4d1b-bc0a-5152a2605046",
   "metadata": {},
   "outputs": [
    {
     "data": {
      "text/html": [
       "<div>\n",
       "<style scoped>\n",
       "    .dataframe tbody tr th:only-of-type {\n",
       "        vertical-align: middle;\n",
       "    }\n",
       "\n",
       "    .dataframe tbody tr th {\n",
       "        vertical-align: top;\n",
       "    }\n",
       "\n",
       "    .dataframe thead th {\n",
       "        text-align: right;\n",
       "    }\n",
       "</style>\n",
       "<table border=\"1\" class=\"dataframe\">\n",
       "  <thead>\n",
       "    <tr style=\"text-align: right;\">\n",
       "      <th></th>\n",
       "      <th>CustomerID</th>\n",
       "      <th>CustomerName</th>\n",
       "      <th>Region</th>\n",
       "      <th>SignupDate</th>\n",
       "    </tr>\n",
       "  </thead>\n",
       "  <tbody>\n",
       "    <tr>\n",
       "      <th>195</th>\n",
       "      <td>C0196</td>\n",
       "      <td>Laura Watts</td>\n",
       "      <td>Europe</td>\n",
       "      <td>2022-06-07</td>\n",
       "    </tr>\n",
       "    <tr>\n",
       "      <th>196</th>\n",
       "      <td>C0197</td>\n",
       "      <td>Christina Harvey</td>\n",
       "      <td>Europe</td>\n",
       "      <td>2023-03-21</td>\n",
       "    </tr>\n",
       "    <tr>\n",
       "      <th>197</th>\n",
       "      <td>C0198</td>\n",
       "      <td>Rebecca Ray</td>\n",
       "      <td>Europe</td>\n",
       "      <td>2022-02-27</td>\n",
       "    </tr>\n",
       "    <tr>\n",
       "      <th>198</th>\n",
       "      <td>C0199</td>\n",
       "      <td>Andrea Jenkins</td>\n",
       "      <td>Europe</td>\n",
       "      <td>2022-12-03</td>\n",
       "    </tr>\n",
       "    <tr>\n",
       "      <th>199</th>\n",
       "      <td>C0200</td>\n",
       "      <td>Kelly Cross</td>\n",
       "      <td>Asia</td>\n",
       "      <td>2023-06-11</td>\n",
       "    </tr>\n",
       "  </tbody>\n",
       "</table>\n",
       "</div>"
      ],
      "text/plain": [
       "    CustomerID      CustomerName  Region  SignupDate\n",
       "195      C0196       Laura Watts  Europe  2022-06-07\n",
       "196      C0197  Christina Harvey  Europe  2023-03-21\n",
       "197      C0198       Rebecca Ray  Europe  2022-02-27\n",
       "198      C0199    Andrea Jenkins  Europe  2022-12-03\n",
       "199      C0200       Kelly Cross    Asia  2023-06-11"
      ]
     },
     "execution_count": 29,
     "metadata": {},
     "output_type": "execute_result"
    }
   ],
   "source": [
    "data.tail()"
   ]
  },
  {
   "cell_type": "code",
   "execution_count": 30,
   "id": "3cc66f20-92e7-4ed6-8f44-89352aa3e2a9",
   "metadata": {},
   "outputs": [
    {
     "data": {
      "text/plain": [
       "(200, 4)"
      ]
     },
     "execution_count": 30,
     "metadata": {},
     "output_type": "execute_result"
    }
   ],
   "source": [
    "data.shape"
   ]
  },
  {
   "cell_type": "code",
   "execution_count": 31,
   "id": "7f012c45-cfdb-4886-ac4e-aaf6389a464e",
   "metadata": {},
   "outputs": [
    {
     "data": {
      "text/html": [
       "<div>\n",
       "<style scoped>\n",
       "    .dataframe tbody tr th:only-of-type {\n",
       "        vertical-align: middle;\n",
       "    }\n",
       "\n",
       "    .dataframe tbody tr th {\n",
       "        vertical-align: top;\n",
       "    }\n",
       "\n",
       "    .dataframe thead th {\n",
       "        text-align: right;\n",
       "    }\n",
       "</style>\n",
       "<table border=\"1\" class=\"dataframe\">\n",
       "  <thead>\n",
       "    <tr style=\"text-align: right;\">\n",
       "      <th></th>\n",
       "      <th>CustomerID</th>\n",
       "      <th>CustomerName</th>\n",
       "      <th>Region</th>\n",
       "      <th>SignupDate</th>\n",
       "    </tr>\n",
       "  </thead>\n",
       "  <tbody>\n",
       "    <tr>\n",
       "      <th>count</th>\n",
       "      <td>200</td>\n",
       "      <td>200</td>\n",
       "      <td>200</td>\n",
       "      <td>200</td>\n",
       "    </tr>\n",
       "    <tr>\n",
       "      <th>unique</th>\n",
       "      <td>200</td>\n",
       "      <td>200</td>\n",
       "      <td>4</td>\n",
       "      <td>179</td>\n",
       "    </tr>\n",
       "    <tr>\n",
       "      <th>top</th>\n",
       "      <td>C0001</td>\n",
       "      <td>Lawrence Carroll</td>\n",
       "      <td>South America</td>\n",
       "      <td>2024-11-11</td>\n",
       "    </tr>\n",
       "    <tr>\n",
       "      <th>freq</th>\n",
       "      <td>1</td>\n",
       "      <td>1</td>\n",
       "      <td>59</td>\n",
       "      <td>3</td>\n",
       "    </tr>\n",
       "  </tbody>\n",
       "</table>\n",
       "</div>"
      ],
      "text/plain": [
       "       CustomerID      CustomerName         Region  SignupDate\n",
       "count         200               200            200         200\n",
       "unique        200               200              4         179\n",
       "top         C0001  Lawrence Carroll  South America  2024-11-11\n",
       "freq            1                 1             59           3"
      ]
     },
     "execution_count": 31,
     "metadata": {},
     "output_type": "execute_result"
    }
   ],
   "source": [
    "data.describe()"
   ]
  },
  {
   "cell_type": "code",
   "execution_count": 32,
   "id": "aad98109-0450-444c-903e-d0cd2953107c",
   "metadata": {},
   "outputs": [
    {
     "data": {
      "text/plain": [
       "CustomerID      200\n",
       "CustomerName    200\n",
       "Region            4\n",
       "SignupDate      179\n",
       "dtype: int64"
      ]
     },
     "execution_count": 32,
     "metadata": {},
     "output_type": "execute_result"
    }
   ],
   "source": [
    "data.nunique()"
   ]
  },
  {
   "cell_type": "code",
   "execution_count": 33,
   "id": "52ecf76d-0461-4155-baad-b8a2830fa089",
   "metadata": {},
   "outputs": [
    {
     "data": {
      "text/plain": [
       "array(['South America', 'Asia', 'North America', 'Europe'], dtype=object)"
      ]
     },
     "execution_count": 33,
     "metadata": {},
     "output_type": "execute_result"
    }
   ],
   "source": [
    "data['Region'].unique()"
   ]
  },
  {
   "cell_type": "code",
   "execution_count": 34,
   "id": "7c68f9e8-7e43-436b-996f-bb1b02e4b489",
   "metadata": {},
   "outputs": [
    {
     "data": {
      "text/plain": [
       "CustomerID      0\n",
       "CustomerName    0\n",
       "Region          0\n",
       "SignupDate      0\n",
       "dtype: int64"
      ]
     },
     "execution_count": 34,
     "metadata": {},
     "output_type": "execute_result"
    }
   ],
   "source": [
    "data.isnull().sum()"
   ]
  },
  {
   "cell_type": "code",
   "execution_count": 35,
   "id": "3b2cd70d-ccdf-4a25-b7b1-d8cf25a2b890",
   "metadata": {},
   "outputs": [],
   "source": [
    "# Correlation matrix for numerical variables"
   ]
  },
  {
   "cell_type": "code",
   "execution_count": 36,
   "id": "3ffbcde4-8121-4854-9ae7-ae7ce6775c95",
   "metadata": {},
   "outputs": [],
   "source": [
    "numerical_data = data.select_dtypes(include=['float64', 'int64'])"
   ]
  },
  {
   "cell_type": "code",
   "execution_count": 37,
   "id": "16b38f62-fbef-43b2-a3e2-f41df1a71dbe",
   "metadata": {},
   "outputs": [
    {
     "name": "stdout",
     "output_type": "stream",
     "text": [
      "No numerical columns available for correlation matrix.\n"
     ]
    }
   ],
   "source": [
    "if not numerical_data.empty:\n",
    "    plt.figure(figsize=(10, 6))\n",
    "    sns.heatmap(numerical_data.corr(), annot=True, cmap='coolwarm')\n",
    "    plt.title('Correlation Matrix')\n",
    "    plt.show()\n",
    "else:\n",
    "    print(\"No numerical columns available for correlation matrix.\")"
   ]
  },
  {
   "cell_type": "code",
   "execution_count": 38,
   "id": "4ed8f5fc-a212-47cd-afe0-fc8606001315",
   "metadata": {},
   "outputs": [
    {
     "name": "stdout",
     "output_type": "stream",
     "text": [
      "CustomerID      object\n",
      "CustomerName    object\n",
      "Region          object\n",
      "SignupDate      object\n",
      "dtype: object\n"
     ]
    }
   ],
   "source": [
    "print(data.dtypes)"
   ]
  },
  {
   "cell_type": "code",
   "execution_count": 39,
   "id": "acceadff-266d-4a8f-a481-d8f2bac4d464",
   "metadata": {},
   "outputs": [
    {
     "name": "stdout",
     "output_type": "stream",
     "text": [
      "Value counts for Region:\n",
      "Region\n",
      "South America    59\n",
      "Europe           50\n",
      "North America    46\n",
      "Asia             45\n",
      "Name: count, dtype: int64\n",
      "----------------------------------------\n"
     ]
    }
   ],
   "source": [
    "# Value counts for categorical columns\n",
    "for col in ['Region']:\n",
    "    print(f\"Value counts for {col}:\")\n",
    "    print(data[col].value_counts())\n",
    "    print(\"-\" * 40)"
   ]
  },
  {
   "cell_type": "code",
   "execution_count": 40,
   "id": "9d60d1a5-a9ae-45db-894c-ffb368c361b1",
   "metadata": {},
   "outputs": [
    {
     "data": {
      "image/png": "[encoded data removed]",
      "text/plain": [
       "<Figure size 640x480 with 1 Axes>"
      ]
     },
     "metadata": {},
     "output_type": "display_data"
    }
   ],
   "source": [
    "# Visualize distribution of Region\n",
    "sns.countplot(y=data['Region'])\n",
    "plt.title(\"Distribution of Regions\")\n",
    "plt.show()"
   ]
  },
  {
   "cell_type": "code",
   "execution_count": 41,
   "id": "ad97f6c1-d4bd-492f-bd5d-72b457940106",
   "metadata": {},
   "outputs": [
    {
     "name": "stdout",
     "output_type": "stream",
     "text": [
      "Number of duplicate CustomerIDs: 0\n"
     ]
    }
   ],
   "source": [
    "# Check for duplicate CustomerIDs\n",
    "duplicates = data['CustomerID'].duplicated().sum()\n",
    "print(f\"Number of duplicate CustomerIDs: {duplicates}\")"
   ]
  },
  {
   "cell_type": "code",
   "execution_count": 42,
   "id": "d55998bc-2045-4222-893b-1adfe614fc12",
   "metadata": {},
   "outputs": [],
   "source": [
    "# Convert SignupDate to datetime\n",
    "data['SignupDate'] = pd.to_datetime(data['SignupDate'], errors='coerce')"
   ]
  },
  {
   "cell_type": "code",
   "execution_count": 43,
   "id": "11047fe3-cb46-4ef1-baa5-973fcdfd3866",
   "metadata": {},
   "outputs": [
    {
     "name": "stdout",
     "output_type": "stream",
     "text": [
      "Missing SignupDate entries: 0\n"
     ]
    }
   ],
   "source": [
    "# Check for missing or invalid dates\n",
    "print(f\"Missing SignupDate entries: {data['SignupDate'].isnull().sum()}\")"
   ]
  },
  {
   "cell_type": "code",
   "execution_count": 44,
   "id": "8ffeb411-bcf7-4340-9c93-7a51f207aeca",
   "metadata": {},
   "outputs": [],
   "source": [
    "# Extract year, month, and day information\n",
    "data['SignupYear'] = data['SignupDate'].dt.year\n",
    "data['SignupMonth'] = data['SignupDate'].dt.month\n",
    "data['SignupWeekday'] = data['SignupDate'].dt.day_name()"
   ]
  },
  {
   "cell_type": "code",
   "execution_count": 45,
   "id": "26005b78-f972-42e5-a877-ecae45fd4113",
   "metadata": {},
   "outputs": [
    {
     "data": {
      "image/png": "[encoded data removed]",
      "text/plain": [
       "<Figure size 640x480 with 1 Axes>"
      ]
     },
     "metadata": {},
     "output_type": "display_data"
    }
   ],
   "source": [
    "# Visualize trends over time\n",
    "sns.countplot(x=data['SignupYear'])\n",
    "plt.title(\"Signups by Year\")\n",
    "plt.show()\n"
   ]
  },
  {
   "cell_type": "code",
   "execution_count": 46,
   "id": "66a4f156-7187-424c-86bc-6f3fa2930967",
   "metadata": {},
   "outputs": [
    {
     "data": {
      "image/png": "[encoded data removed]",
      "text/plain": [
       "<Figure size 640x480 with 1 Axes>"
      ]
     },
     "metadata": {},
     "output_type": "display_data"
    }
   ],
   "source": [
    "sns.countplot(x=data['SignupMonth'])\n",
    "plt.title(\"Signups by Month\")\n",
    "plt.show()"
   ]
  },
  {
   "cell_type": "code",
   "execution_count": 47,
   "id": "12389ef3-b768-4f2e-8648-ca69b5ba433a",
   "metadata": {},
   "outputs": [
    {
     "data": {
      "image/png": "[encoded data removed]",
      "text/plain": [
       "<Figure size 640x480 with 1 Axes>"
      ]
     },
     "metadata": {},
     "output_type": "display_data"
    }
   ],
   "source": [
    "sns.countplot(x=data['SignupWeekday'], order=['Monday', 'Tuesday', 'Wednesday', 'Thursday', 'Friday', 'Saturday', 'Sunday'])\n",
    "plt.title(\"Signups by Weekday\")\n",
    "plt.show()"
   ]
  },
  {
   "cell_type": "code",
   "execution_count": 48,
   "id": "7f5f8fbb-ddc9-4c03-93a0-af2da1894b8a",
   "metadata": {},
   "outputs": [
    {
     "name": "stdout",
     "output_type": "stream",
     "text": [
      "Number of unique customer names: 200\n"
     ]
    }
   ],
   "source": [
    "# Count unique customer names\n",
    "unique_names = data['CustomerName'].nunique()\n",
    "print(f\"Number of unique customer names: {unique_names}\")"
   ]
  },
  {
   "cell_type": "code",
   "execution_count": 49,
   "id": "8a3e6e2d-3d9b-4ef1-9386-5bc2c32320e8",
   "metadata": {},
   "outputs": [
    {
     "name": "stdout",
     "output_type": "stream",
     "text": [
      "SignupYear     2022  2023  2024\n",
      "Region                         \n",
      "Asia             13    16    16\n",
      "Europe           16    19    15\n",
      "North America    10     8    28\n",
      "South America    25    14    20\n"
     ]
    }
   ],
   "source": [
    "# Cross-tabulation of Region and SignupYear\n",
    "region_signup = pd.crosstab(data['Region'], data['SignupYear'])\n",
    "print(region_signup)"
   ]
  },
  {
   "cell_type": "code",
   "execution_count": 50,
   "id": "5423acaf-8512-4543-86db-44961668c34c",
   "metadata": {},
   "outputs": [
    {
     "data": {
      "image/png": "[encoded data removed]",
      "text/plain": [
       "<Figure size 1000x600 with 1 Axes>"
      ]
     },
     "metadata": {},
     "output_type": "display_data"
    }
   ],
   "source": [
    "# Visualize the relationship\n",
    "region_signup.plot(kind='bar', stacked=True, figsize=(10, 6))\n",
    "plt.title(\"Region-wise Signups Over Years\")\n",
    "plt.ylabel(\"Number of Signups\")\n",
    "plt.show()"
   ]
  }
 ],
 "metadata": {
  "kernelspec": {
   "display_name": "Python 3",
   "language": "python",
   "name": "python3"
  },
  "language_info": {
   "codemirror_mode": {
    "name": "ipython",
    "version": 3
   },
   "file_extension": ".py",
   "mimetype": "text/x-python",
   "name": "python",
   "nbconvert_exporter": "python",
   "pygments_lexer": "ipython3",
   "version": "3.10.11"
  }
 },
 "nbformat": 4,
 "nbformat_minor": 5
}
