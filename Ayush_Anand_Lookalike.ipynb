{
 "cells": [
  {
   "cell_type": "code",
   "execution_count": 15,
   "id": "e77de4ed-c9dc-4523-96a0-675d130c3976",
   "metadata": {},
   "outputs": [],
   "source": [
    "import pandas as pd\n",
    "import numpy as np\n",
    "from sklearn.metrics.pairwise import cosine_similarity\n",
    "from sklearn.preprocessing import StandardScaler\n"
   ]
  },
  {
   "cell_type": "code",
   "execution_count": 16,
   "id": "5f8b657b-eefa-41bb-a893-622b2489e913",
   "metadata": {},
   "outputs": [],
   "source": [
    "customers_df = pd.read_csv(\"Customers.csv\")  # Replace with your actual file path\n",
    "transactions_df = pd.read_csv(\"Transactions.csv\")  # Replace with your actual file path\n"
   ]
  },
  {
   "cell_type": "code",
   "execution_count": 17,
   "id": "a35ffd78-7a69-49ad-949a-cc151ef122e2",
   "metadata": {},
   "outputs": [
    {
     "name": "stdout",
     "output_type": "stream",
     "text": [
      "  CustomerID        CustomerName         Region  SignupDate\n",
      "0      C0001    Lawrence Carroll  South America  2022-07-10\n",
      "1      C0002      Elizabeth Lutz           Asia  2022-02-13\n",
      "2      C0003      Michael Rivera  South America  2024-03-07\n",
      "3      C0004  Kathleen Rodriguez  South America  2022-10-09\n",
      "4      C0005         Laura Weber           Asia  2022-08-15\n",
      "  TransactionID CustomerID ProductID      TransactionDate  Quantity   \n",
      "0        T00001      C0199      P067  2024-08-25 12:38:23         1  \\\n",
      "1        T00112      C0146      P067  2024-05-27 22:23:54         1   \n",
      "2        T00166      C0127      P067   2024-04-25 7:38:55         1   \n",
      "3        T00272      C0087      P067  2024-03-26 22:55:37         2   \n",
      "4        T00363      C0070      P067  2024-03-21 15:10:10         3   \n",
      "\n",
      "   TotalValue   Price  \n",
      "0      300.68  300.68  \n",
      "1      300.68  300.68  \n",
      "2      300.68  300.68  \n",
      "3      601.36  300.68  \n",
      "4      902.04  300.68  \n"
     ]
    }
   ],
   "source": [
    "print(customers_df.head())  # View first few rows of customers data\n",
    "print(transactions_df.head())  # View first few rows of transactions data\n"
   ]
  },
  {
   "cell_type": "code",
   "execution_count": 18,
   "id": "6b0e36df-56a1-484b-8c58-2de5fdef5427",
   "metadata": {},
   "outputs": [],
   "source": [
    "transactions_df.columns = transactions_df.columns.str.strip()  # Clean columns"
   ]
  },
  {
   "cell_type": "code",
   "execution_count": 19,
   "id": "b533f696-da6b-452a-8139-7c91be0e9de7",
   "metadata": {},
   "outputs": [],
   "source": [
    "user_item_matrix = transactions_df.pivot_table(\n",
    "    index='CustomerID', \n",
    "    columns='ProductID', \n",
    "    values='TotalValue',  # Using 'TotalValue' to represent transaction amount\n",
    "    aggfunc='sum', \n",
    "    fill_value=0  # Fill missing values with 0 if the customer didn't purchase the product\n",
    ")"
   ]
  },
  {
   "cell_type": "code",
   "execution_count": 20,
   "id": "10d25ca0-93cf-4745-8c48-ac73b56e0871",
   "metadata": {},
   "outputs": [],
   "source": [
    "user_item_matrix = transactions_df.pivot_table(\n",
    "    index='CustomerID', \n",
    "    columns='ProductID', \n",
    "    values='TotalValue',  # Using 'TotalValue' to represent transaction amount\n",
    "    aggfunc='sum', \n",
    "    fill_value=0  # Fill missing values with 0 if the customer didn't purchase the product\n",
    ")\n"
   ]
  },
  {
   "cell_type": "code",
   "execution_count": 21,
   "id": "90d5397a-11a2-4543-94a2-c197808df977",
   "metadata": {},
   "outputs": [],
   "source": [
    "scaler = StandardScaler()\n",
    "user_item_matrix_scaled = scaler.fit_transform(user_item_matrix)\n"
   ]
  },
  {
   "cell_type": "code",
   "execution_count": 22,
   "id": "0d582af3-c532-4b13-a48b-63bfa21f4a1b",
   "metadata": {},
   "outputs": [],
   "source": [
    "similarity_matrix = cosine_similarity(user_item_matrix_scaled)\n"
   ]
  },
  {
   "cell_type": "code",
   "execution_count": 23,
   "id": "b6dd1ea0-af87-4d16-a9de-af63ab72bdca",
   "metadata": {},
   "outputs": [],
   "source": [
    "similarity_df = pd.DataFrame(similarity_matrix, index=user_item_matrix.index, columns=user_item_matrix.index)\n"
   ]
  },
  {
   "cell_type": "code",
   "execution_count": 24,
   "id": "26dae736-a76f-402e-84c5-d6fb579f8db3",
   "metadata": {},
   "outputs": [],
   "source": [
    "def get_top_lookalikes(customer_id, similarity_df, top_n=3):\n",
    "    # Sort customers based on similarity score, and select the top N excluding the customer itself\n",
    "    similar_customers = similarity_df[customer_id].sort_values(ascending=False)[1:top_n+1]\n",
    "    return [(customer_id, similar_customer, score) for similar_customer, score in zip(similar_customers.index, similar_customers.values)]\n"
   ]
  },
  {
   "cell_type": "code",
   "execution_count": 25,
   "id": "c7cddc50-8aa4-4839-835e-d8174fdd515b",
   "metadata": {},
   "outputs": [],
   "source": [
    "lookalike_results = []\n",
    "for customer_id in customers_df['CustomerID'][:20]:\n",
    "    lookalike_results.extend(get_top_lookalikes(customer_id, similarity_df))\n"
   ]
  },
  {
   "cell_type": "code",
   "execution_count": 26,
   "id": "1b7266ca-f4d8-48b9-a1d4-2ab067a72dd4",
   "metadata": {},
   "outputs": [],
   "source": [
    "lookalike_df = pd.DataFrame(lookalike_results, columns=['CustomerID', 'LookalikeCustomerID', 'SimilarityScore'])\n"
   ]
  },
  {
   "cell_type": "code",
   "execution_count": 27,
   "id": "4ff2b179-af27-46aa-aa3c-700d84fe8fc4",
   "metadata": {},
   "outputs": [],
   "source": [
    "lookalike_df.to_csv('Lookalike.csv', index=False)\n"
   ]
  },
  {
   "cell_type": "code",
   "execution_count": 28,
   "id": "63edb5c2-0c0b-44ba-8a51-78b960eccabf",
   "metadata": {},
   "outputs": [
    {
     "name": "stdout",
     "output_type": "stream",
     "text": [
      "  CustomerID LookalikeCustomerID  SimilarityScore\n",
      "0      C0001               C0194         0.404928\n",
      "1      C0001               C0104         0.374002\n",
      "2      C0001               C0020         0.366609\n",
      "3      C0002               C0030         0.404617\n",
      "4      C0002               C0091         0.383778\n"
     ]
    }
   ],
   "source": [
    "print(lookalike_df.head())  # View first few lookalike recommendations\n"
   ]
  },
  {
   "cell_type": "code",
   "execution_count": null,
   "id": "18c0c843-1bea-4bd0-9d64-8bfcabb96187",
   "metadata": {},
   "outputs": [],
   "source": []
  }
 ],
 "metadata": {
  "kernelspec": {
   "display_name": "Python 3",
   "language": "python",
   "name": "python3"
  },
  "language_info": {
   "codemirror_mode": {
    "name": "ipython",
    "version": 3
   },
   "file_extension": ".py",
   "mimetype": "text/x-python",
   "name": "python",
   "nbconvert_exporter": "python",
   "pygments_lexer": "ipython3",
   "version": "3.10.11"
  }
 },
 "nbformat": 4,
 "nbformat_minor": 5
}
